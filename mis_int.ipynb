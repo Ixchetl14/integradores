{
 "cells": [
  {
   "cell_type": "code",
   "execution_count": 1,
   "metadata": {
    "collapsed": true
   },
   "outputs": [],
   "source": [
    "from pylab import *\n",
    "%matplotlib inline"
   ]
  },
  {
   "cell_type": "markdown",
   "metadata": {},
   "source": [
    "# Método de Euler mejorado"
   ]
  },
  {
   "cell_type": "code",
   "execution_count": 2,
   "metadata": {
    "collapsed": true
   },
   "outputs": [],
   "source": [
    "def integra2(ec,d_ec, p_ini,x,h=0.1):\n",
    "   \n",
    "    tiempos = arange(x[0],x[1]+h,h)   # h, es el \"paso \" entre el intervalo dado; con esto damos el nuemro de datos \"tiempos\" que queremos nos tome nuestra ecuacíon y estaran relacionados con la solucio,( se tendría una \"t\" con su \"sol\")\n",
    "    sol=zeros((len(tiempos), len(p_ini)) )# array con ceros dada por la longitud de las condiciones iniciales( la primera condicion indica los renglones y la segunda la columna)\n",
    "    sol[0,:]=p_ini    #el primer renglon lo llenará con \"p_ini\" por lo que el ciclo debera de ser de len(tiempos) -1 \n",
    "    for i in xrange(len(tiempos)-1):  # ira corrinedo para todos los tiempos y la solucion la estaremos ingresando en una matris con listas\n",
    "                                     #xrange solo funciona en los ciclos\n",
    "        \n",
    "        f=ec(sol[i,:], tiempos[i]) # indica que debe de evaluar la funcion en cada tiempo y lo \n",
    "        df,jac=d_ec(sol[i,:],tiempos[i])\n",
    "        sol[i+1,:] = sol[i,:]+h*f + (0.5*h*h*(df+dot(jac,f)))  # integrando lo que faltaba de la ecuación que nos da en un principio# debe de ser el i + 1 por que el primer renglon ya esta ocupado, con esto se irá llenand\n",
    "    #o el arreglo de ceros\n",
    "    \n",
    "    #jn1 = yn + (h*f) + (0.5*h*h*(jac[0]+ dot (jac[1],f)))       # donde jac[0]    es la parcial de f respecto de f\n",
    "    return tiempos,sol"
   ]
  },
  {
   "cell_type": "markdown",
   "metadata": {},
   "source": [
    "# Runge Kutta (de segundo orden)"
   ]
  },
  {
   "cell_type": "code",
   "execution_count": 3,
   "metadata": {
    "collapsed": true
   },
   "outputs": [],
   "source": [
    "def R_Kutta(ec,p_ini,x,h=0.1):\n",
    "   \n",
    "    tiempos = arange(x[0],x[1]+h,h)   \n",
    "    sol=zeros((len(tiempos), len(p_ini)) )\n",
    "    sol[0,:]=p_ini\n",
    "    for i in xrange(len(tiempos)-1):\n",
    "        k=h*ec(sol[i,:],tiempos[i])\n",
    "        f=ec(sol[i,:] +0.5*k, tiempos[i]+0.5*h) ## por la forma en que definimos ponemos primero a la variable dependiente y despues la independiente\n",
    "        sol[i+1,:] = sol[i,:]+h*f  \n",
    "    \n",
    "    return tiempos,sol"
   ]
  },
  {
   "cell_type": "markdown",
   "metadata": {
    "collapsed": true
   },
   "source": [
    "# Runge Kutta ( de cuarto orden)"
   ]
  },
  {
   "cell_type": "code",
   "execution_count": 4,
   "metadata": {
    "collapsed": true
   },
   "outputs": [],
   "source": [
    "def R_Kutta_4(ec,p_ini,x,h=0.1):\n",
    "   \n",
    "    tiempos = arange(x[0],x[1]+h,h)   \n",
    "    sol=zeros((len(tiempos), len(p_ini)) )\n",
    "    sol[0,:]=p_ini\n",
    "    for i in xrange(len(tiempos)-1):\n",
    "        k1=ec(sol[i,:],tiempos[i])\n",
    "        k2=ec(sol[i,:]+ 0.5*h*k1,tiempos[i]+0.5*h)\n",
    "        k3=ec(sol[i,:]+ 0.5*h*k2,tiempos[i]+0.5*h)\n",
    "        k4=ec(sol[i,:]+ h*k3,tiempos[i]+ h)\n",
    "        sol[i+1,:] = sol[i,:]+(h/6.)*(k1 + (2*k2) + (2*k3) +k4)  \n",
    "    \n",
    "    return tiempos,sol"
   ]
  },
  {
   "cell_type": "code",
   "execution_count": null,
   "metadata": {
    "collapsed": true
   },
   "outputs": [],
   "source": []
  },
  {
   "cell_type": "code",
   "execution_count": null,
   "metadata": {
    "collapsed": true
   },
   "outputs": [],
   "source": []
  },
  {
   "cell_type": "code",
   "execution_count": null,
   "metadata": {
    "collapsed": true
   },
   "outputs": [],
   "source": []
  },
  {
   "cell_type": "code",
   "execution_count": null,
   "metadata": {
    "collapsed": true
   },
   "outputs": [],
   "source": []
  },
  {
   "cell_type": "code",
   "execution_count": null,
   "metadata": {
    "collapsed": true
   },
   "outputs": [],
   "source": []
  },
  {
   "cell_type": "code",
   "execution_count": null,
   "metadata": {
    "collapsed": true
   },
   "outputs": [],
   "source": []
  }
 ],
 "metadata": {
  "kernelspec": {
   "display_name": "Python 2",
   "language": "python",
   "name": "python2"
  },
  "language_info": {
   "codemirror_mode": {
    "name": "ipython",
    "version": 2
   },
   "file_extension": ".py",
   "mimetype": "text/x-python",
   "name": "python",
   "nbconvert_exporter": "python",
   "pygments_lexer": "ipython2",
   "version": "2.7.11"
  }
 },
 "nbformat": 4,
 "nbformat_minor": 0
}
