{
 "cells": [
  {
   "cell_type": "code",
   "execution_count": 5,
   "metadata": {
    "collapsed": true
   },
   "outputs": [],
   "source": [
    "\n",
    "from pylab import *\n",
    "%matplotlib inline\n"
   ]
  },
  {
   "cell_type": "code",
   "execution_count": 2,
   "metadata": {
    "collapsed": true
   },
   "outputs": [],
   "source": [
    "def integra2(ec,d_ec, p_ini,x,h=0.1):\n",
    "   \n",
    "    tiempos = arange(x[0],x[1]+h,h)   # h, es el \"paso \" entre el intervalo dado; con esto damos el nuemro de datos \"tiempos\" que queremos nos tome nuestra ecuacíon y estaran relacionados con la solucio,( se tendría una \"t\" con su \"sol\")\n",
    "    sol=zeros((len(tiempos), len(p_ini)) )# array con ceros dada por la longitud de las condiciones iniciales( la primera condicion indica los renglones y la segunda la columna)\n",
    "    sol[0,:]=p_ini    #el primer renglon lo llenará con \"p_ini\" por lo que el ciclo debera de ser de len(tiempos) -1 \n",
    "    for i in xrange(len(tiempos)-1):  # ira corrinedo para todos los tiempos y la solucion la estaremos ingresando en una matris con listas\n",
    "                                     #xrange solo funciona en los ciclos\n",
    "        \n",
    "        f=ec(sol[i,:], tiempos[i]) # indica que debe de evaluar la funcion en cada tiempo y lo \n",
    "        df,jac=d_ec(sol[i,:],tiempos[i])\n",
    "        sol[i+1,:] = sol[i,:]+h*f + (0.5*h*h*(df+dot(jac,f)))  # integrando lo que faltaba de la ecuación que nos da en un principio# debe de ser el i + 1 por que el primer renglon ya esta ocupado, con esto se irá llenand\n",
    "    #o el arreglo de ceros\n",
    "    \n",
    "    #jn1 = yn + (h*f) + (0.5*h*h*(jac[0]+ dot (jac[1],f)))       # donde jac[0]    es la parcial de f respecto de f\n",
    "    return tiempos,sol\n"
   ]
  },
  {
   "cell_type": "markdown",
   "metadata": {
    "collapsed": true
   },
   "source": [
    "# Metodo de Newton"
   ]
  },
  {
   "cell_type": "code",
   "execution_count": 34,
   "metadata": {
    "collapsed": false
   },
   "outputs": [],
   "source": [
    "def newton(ec,d_ec,p_ini,x,h=0.1 ):\n",
    "    tiempos = arange(x[0],x[1]+h,h)   \n",
    "    sol=zeros((len(tiempos), len(p_ini)) )\n",
    "    sol[0,:]=p_ini\n",
    "    for i in xrange(len(tiempos)-1):\n",
    "        k=ec(sol[i,:],tiempos[i])\n",
    "        f=d_ec(sol[i,:] , tiempos[i]) ## por la forma en que definimos ponemos primero a la variable dependiente y despues la independiente\n",
    "        sol[i+1,:] = sol[i,:]-\n",
    "    return tiempos,sol\n"
   ]
  },
  {
   "cell_type": "code",
   "execution_count": null,
   "metadata": {
    "collapsed": true
   },
   "outputs": [],
   "source": []
  },
  {
   "cell_type": "code",
   "execution_count": 35,
   "metadata": {
    "collapsed": true
   },
   "outputs": [],
   "source": [
    "def p(y,t):\n",
    "    return array([y[1],-2*y[1]-0.5*sin(y[0])+ cos(t)])"
   ]
  },
  {
   "cell_type": "code",
   "execution_count": 36,
   "metadata": {
    "collapsed": true
   },
   "outputs": [],
   "source": [
    "def dp(y,t):\n",
    "    return array ([0,cos(t)]),array ([[0,1],[-0.5*cos(y[0]),-2]])"
   ]
  },
  {
   "cell_type": "code",
   "execution_count": 37,
   "metadata": {
    "collapsed": false
   },
   "outputs": [
    {
     "ename": "ValueError",
     "evalue": "could not broadcast input array from shape (2,2) into shape (2)",
     "output_type": "error",
     "traceback": [
      "\u001b[1;31m---------------------------------------------------------------------------\u001b[0m",
      "\u001b[1;31mValueError\u001b[0m                                Traceback (most recent call last)",
      "\u001b[1;32m<ipython-input-37-ba197b294c97>\u001b[0m in \u001b[0;36m<module>\u001b[1;34m()\u001b[0m\n\u001b[1;32m----> 1\u001b[1;33m \u001b[0mt\u001b[0m\u001b[1;33m,\u001b[0m\u001b[0my\u001b[0m\u001b[1;33m=\u001b[0m \u001b[0mnewton\u001b[0m\u001b[1;33m(\u001b[0m\u001b[0mp\u001b[0m\u001b[1;33m,\u001b[0m\u001b[0mdp\u001b[0m\u001b[1;33m,\u001b[0m\u001b[1;33m[\u001b[0m\u001b[1;36m1\u001b[0m\u001b[1;33m,\u001b[0m\u001b[1;36m0\u001b[0m\u001b[1;33m]\u001b[0m\u001b[1;33m,\u001b[0m\u001b[1;33m[\u001b[0m\u001b[1;36m0\u001b[0m\u001b[1;33m,\u001b[0m\u001b[1;36m100\u001b[0m\u001b[1;33m]\u001b[0m\u001b[1;33m,\u001b[0m\u001b[1;36m0.1\u001b[0m\u001b[1;33m)\u001b[0m\u001b[1;33m\u001b[0m\u001b[0m\n\u001b[0m\u001b[0;32m      2\u001b[0m \u001b[0mplot\u001b[0m\u001b[1;33m(\u001b[0m\u001b[0my\u001b[0m\u001b[1;33m[\u001b[0m\u001b[1;33m:\u001b[0m\u001b[1;33m,\u001b[0m\u001b[1;36m0\u001b[0m\u001b[1;33m]\u001b[0m\u001b[1;33m,\u001b[0m\u001b[0my\u001b[0m\u001b[1;33m[\u001b[0m\u001b[1;33m:\u001b[0m\u001b[1;33m,\u001b[0m\u001b[1;36m1\u001b[0m\u001b[1;33m]\u001b[0m\u001b[1;33m)\u001b[0m\u001b[1;33m\u001b[0m\u001b[0m\n",
      "\u001b[1;32m<ipython-input-34-0f6416202e2d>\u001b[0m in \u001b[0;36mnewton\u001b[1;34m(ec, d_ec, p_ini, x, h)\u001b[0m\n\u001b[0;32m      6\u001b[0m         \u001b[0mk\u001b[0m\u001b[1;33m=\u001b[0m\u001b[0mec\u001b[0m\u001b[1;33m(\u001b[0m\u001b[0msol\u001b[0m\u001b[1;33m[\u001b[0m\u001b[0mi\u001b[0m\u001b[1;33m,\u001b[0m\u001b[1;33m:\u001b[0m\u001b[1;33m]\u001b[0m\u001b[1;33m,\u001b[0m\u001b[0mtiempos\u001b[0m\u001b[1;33m[\u001b[0m\u001b[0mi\u001b[0m\u001b[1;33m]\u001b[0m\u001b[1;33m)\u001b[0m\u001b[1;33m\u001b[0m\u001b[0m\n\u001b[0;32m      7\u001b[0m         \u001b[0mf\u001b[0m\u001b[1;33m=\u001b[0m\u001b[0md_ec\u001b[0m\u001b[1;33m(\u001b[0m\u001b[0msol\u001b[0m\u001b[1;33m[\u001b[0m\u001b[0mi\u001b[0m\u001b[1;33m,\u001b[0m\u001b[1;33m:\u001b[0m\u001b[1;33m]\u001b[0m \u001b[1;33m,\u001b[0m \u001b[0mtiempos\u001b[0m\u001b[1;33m[\u001b[0m\u001b[0mi\u001b[0m\u001b[1;33m]\u001b[0m\u001b[1;33m)\u001b[0m \u001b[1;31m## por la forma en que definimos ponemos primero a la variable dependiente y despues la independiente\u001b[0m\u001b[1;33m\u001b[0m\u001b[0m\n\u001b[1;32m----> 8\u001b[1;33m         \u001b[0msol\u001b[0m\u001b[1;33m[\u001b[0m\u001b[0mi\u001b[0m\u001b[1;33m+\u001b[0m\u001b[1;36m1\u001b[0m\u001b[1;33m,\u001b[0m\u001b[1;33m:\u001b[0m\u001b[1;33m]\u001b[0m \u001b[1;33m=\u001b[0m \u001b[0msol\u001b[0m\u001b[1;33m[\u001b[0m\u001b[0mi\u001b[0m\u001b[1;33m,\u001b[0m\u001b[1;33m:\u001b[0m\u001b[1;33m]\u001b[0m\u001b[1;33m-\u001b[0m\u001b[1;33m(\u001b[0m\u001b[0mf\u001b[0m\u001b[1;33m)\u001b[0m\u001b[1;33m\u001b[0m\u001b[0m\n\u001b[0m\u001b[0;32m      9\u001b[0m     \u001b[1;32mreturn\u001b[0m \u001b[0mtiempos\u001b[0m\u001b[1;33m,\u001b[0m\u001b[0msol\u001b[0m\u001b[1;33m\u001b[0m\u001b[0m\n",
      "\u001b[1;31mValueError\u001b[0m: could not broadcast input array from shape (2,2) into shape (2)"
     ]
    }
   ],
   "source": [
    "t,y= newton(p,dp,[1,0],[0,100],0.1)\n",
    "plot(y[:,0],y[:,1])"
   ]
  },
  {
   "cell_type": "code",
   "execution_count": null,
   "metadata": {
    "collapsed": true
   },
   "outputs": [],
   "source": []
  },
  {
   "cell_type": "code",
   "execution_count": null,
   "metadata": {
    "collapsed": true
   },
   "outputs": [],
   "source": [
    "def raiz_bin(func,x_i,x_d,err= 1e-7):#err es el \"tope\" de nuestra busqueda de la raíz con un margen de error de 1e-5,esto tiene repercucuines com el intervalo que te de como error cresca o disminuye\n",
    "    raiz= 0.5*(x_i+x_d)\n",
    "    y_i,y_d = func(x_i), func(x_d)\n",
    "    n=0\n",
    "    while abs(raiz - x_d)  >=err and abs(y_d - y_i)  >=err: #error en el eje x\n",
    "        y_m = func(raiz) #debemos saber cuanto vale la función en cada uno de los lados\" por la derecha y la izquierda\"\n",
    "        if y_m==0:\n",
    "            print \"le atine!!\"\n",
    "            break\n",
    "        \n",
    "        elif y_m*y_i < 0 :\n",
    "            x_d = raiz\n",
    "        else:\n",
    "            x_i=raiz\n",
    "            \n",
    "        raiz= 0.5*(x_i+x_d)\n",
    "        y_i,y_d = func(x_i), func(x_d)\n",
    "        n+=1\n",
    "        print \"paso: \",n, \" raiz=\",raiz \n",
    "    return raiz\n"
   ]
  },
  {
   "cell_type": "code",
   "execution_count": 16,
   "metadata": {
    "collapsed": true
   },
   "outputs": [],
   "source": [
    "def R_Kutta(ec,p_ini,x,h=0.1):\n",
    "   \n",
    "    tiempos = arange(x[0],x[1]+h,h)   \n",
    "    sol=zeros((len(tiempos), len(p_ini)) )\n",
    "    sol[0,:]=p_ini\n",
    "    for i in xrange(len(tiempos)-1):\n",
    "        k=h*ec(sol[i,:],tiempos[i])\n",
    "        f=ec(sol[i,:] +0.5*k, tiempos[i]+0.5*h) ## por la forma en que definimos ponemos primero a la variable dependiente y despues la independiente\n",
    "        sol[i+1,:] = sol[i,:]+h*f  \n",
    "    \n",
    "    return tiempos,sol"
   ]
  },
  {
   "cell_type": "code",
   "execution_count": 10,
   "metadata": {
    "collapsed": true
   },
   "outputs": [],
   "source": [
    "def R_Kutta_4(ec,p_ini,x,h=0.1):\n",
    "   \n",
    "    tiempos = arange(x[0],x[1]+h,h)   \n",
    "    sol=zeros((len(tiempos), len(p_ini)) )\n",
    "    sol[0,:]=p_ini\n",
    "    for i in xrange(len(tiempos)-1):\n",
    "        k1=ec(sol[i,:],tiempos[i])\n",
    "        k2=ec(sol[i,:]+ 0.5*h*k1,tiempos[i]+0.5*h)\n",
    "        k3=ec(sol[i,:]+ 0.5*h*k2,tiempos[i]+0.5*h)\n",
    "        k4=ec(sol[i,:]+ h*k3,tiempos[i]+ h)\n",
    "        sol[i+1,:] = sol[i,:]+(h/6.)*(k1 + (2*k2) + (2*k3) +k4)  \n",
    "    \n",
    "    return tiempos,sol"
   ]
  },
  {
   "cell_type": "code",
   "execution_count": null,
   "metadata": {
    "collapsed": true
   },
   "outputs": [],
   "source": []
  }
 ],
 "metadata": {
  "kernelspec": {
   "display_name": "Python 2",
   "language": "python",
   "name": "python2"
  },
  "language_info": {
   "codemirror_mode": {
    "name": "ipython",
    "version": 2
   },
   "file_extension": ".py",
   "mimetype": "text/x-python",
   "name": "python",
   "nbconvert_exporter": "python",
   "pygments_lexer": "ipython2",
   "version": "2.7.11"
  }
 },
 "nbformat": 4,
 "nbformat_minor": 0
}
