{
 "cells": [
  {
   "cell_type": "code",
   "execution_count": 6,
   "metadata": {
    "collapsed": false
   },
   "outputs": [],
   "source": [
    "from pylab import*\n",
    "from numpy import*\n",
    "%matplotlib inline"
   ]
  },
  {
   "cell_type": "code",
   "execution_count": 56,
   "metadata": {
    "collapsed": false
   },
   "outputs": [],
   "source": [
    "def raiz_bin(func,x_i,x_d,err= 1e-7):#err es el \"tope\" de nuestra busqueda de la raíz con un margen de error de 1e-5,esto tiene repercucuines com el intervalo que te de como error cresca o disminuye\n",
    "    raiz= 0.5*(x_i+x_d)\n",
    "    y_i,y_d = func(x_i), func(x_d)\n",
    "    n=0\n",
    "    while abs(raiz - x_d)  >=err and abs(y_d - y_i)  >=err: #error en el eje x\n",
    "        y_m = func(raiz) #debemos saber cuanto vale la función en cada uno de los lados\" por la derecha y la izquierda\"\n",
    "        if y_m==0:\n",
    "            print \"le atine!!\"\n",
    "            break\n",
    "        \n",
    "        elif y_m*y_i < 0 :\n",
    "            x_d = raiz\n",
    "        else:\n",
    "            x_i=raiz\n",
    "            \n",
    "        raiz= 0.5*(x_i+x_d)\n",
    "        y_i,y_d = func(x_i), func(x_d)\n",
    "        n+=1\n",
    "        print \"paso: \",n, \" raiz=\",raiz \n",
    "    return raiz\n",
    "\n",
    "    "
   ]
  },
  {
   "cell_type": "code",
   "execution_count": 57,
   "metadata": {
    "collapsed": false
   },
   "outputs": [
    {
     "data": {
      "image/png": "[encoded data removed]",
      "text/plain": [
       "<matplotlib.figure.Figure at 0x7efceb779690>"
      ]
     },
     "metadata": {},
     "output_type": "display_data"
    }
   ],
   "source": [
    "x=linspace(1,6)\n",
    "plot (x,sin(x))\n",
    "axes().set_aspect('equal'), grid(True)\n",
    "show()"
   ]
  },
  {
   "cell_type": "code",
   "execution_count": 59,
   "metadata": {
    "collapsed": false
   },
   "outputs": [
    {
     "name": "stdout",
     "output_type": "stream",
     "text": [
      "paso:  1  raiz= 0.1675\n",
      "paso:  2  raiz= 0.02875\n",
      "paso:  3  raiz= -0.040625\n",
      "paso:  4  raiz= -0.0059375\n",
      "paso:  5  raiz= 0.01140625\n",
      "paso:  6  raiz= 0.002734375\n",
      "paso:  7  raiz= -0.0016015625\n",
      "paso:  8  raiz= 0.00056640625\n",
      "paso:  9  raiz= -0.000517578125\n",
      "paso:  10  raiz= 2.44140625e-05\n",
      "paso:  11  raiz= -0.00024658203125\n",
      "paso:  12  raiz= -0.000111083984375\n",
      "paso:  13  raiz= -4.33349609375e-05\n",
      "paso:  14  raiz= -9.46044921874e-06\n",
      "paso:  15  raiz= 7.47680664063e-06\n",
      "paso:  16  raiz= -9.91821289057e-07\n",
      "paso:  17  raiz= 3.24249267579e-06\n",
      "paso:  18  raiz= 1.12533569336e-06\n",
      "paso:  19  raiz= 6.67572021535e-08\n",
      "paso:  20  raiz= -4.62532043452e-07\n",
      "paso:  21  raiz= -1.97887420649e-07\n",
      "paso:  22  raiz= -6.55651092479e-08\n",
      "paso:  23  raiz= 5.96046452815e-10\n"
     ]
    },
    {
     "data": {
      "text/plain": [
       "5.960464528149816e-10"
      ]
     },
     "execution_count": 59,
     "metadata": {},
     "output_type": "execute_result"
    }
   ],
   "source": [
    "raiz_bin(sin, -0.11,1)"
   ]
  },
  {
   "cell_type": "code",
   "execution_count": 45,
   "metadata": {
    "collapsed": false
   },
   "outputs": [],
   "source": [
    "\n",
    "def una_funcion(x):\n",
    "    return (x-1)**4"
   ]
  },
  {
   "cell_type": "code",
   "execution_count": 48,
   "metadata": {
    "collapsed": false
   },
   "outputs": [
    {
     "data": {
      "image/png": "[encoded data removed]",
      "text/plain": [
       "<matplotlib.figure.Figure at 0x7efceb8b7650>"
      ]
     },
     "metadata": {},
     "output_type": "display_data"
    }
   ],
   "source": [
    "x= linspace(0,2)\n",
    "y= una_funcion(x)\n",
    "plot (x,y)\n",
    "show()"
   ]
  },
  {
   "cell_type": "code",
   "execution_count": 49,
   "metadata": {
    "collapsed": false
   },
   "outputs": [
    {
     "name": "stdout",
     "output_type": "stream",
     "text": [
      " la raíz es = paso:  1  raiz= 3.0\n",
      "paso:  2  raiz= 3.5\n",
      "paso:  3  raiz= 3.75\n",
      "paso:  4  raiz= 3.875\n",
      "paso:  5  raiz= 3.9375\n",
      "paso:  6  raiz= 3.96875\n",
      "paso:  7  raiz= 3.984375\n",
      "paso:  8  raiz= 3.9921875\n",
      "paso:  9  raiz= 3.99609375\n",
      "paso:  10  raiz= 3.998046875\n",
      "paso:  11  raiz= 3.9990234375\n",
      "paso:  12  raiz= 3.99951171875\n",
      "paso:  13  raiz= 3.99975585938\n",
      "paso:  14  raiz= 3.99987792969\n",
      "paso:  15  raiz= 3.99993896484\n",
      "paso:  16  raiz= 3.99996948242\n",
      "paso:  17  raiz= 3.99998474121\n",
      "paso:  18  raiz= 3.99999237061\n",
      "paso:  19  raiz= 3.9999961853\n",
      "paso:  20  raiz= 3.99999809265\n",
      "paso:  21  raiz= 3.99999904633\n",
      "paso:  22  raiz= 3.99999952316\n",
      "paso:  23  raiz= 3.99999976158\n",
      "paso:  24  raiz= 3.99999988079\n",
      "paso:  25  raiz= 3.9999999404\n",
      "3.9999999404\n"
     ]
    }
   ],
   "source": [
    "print \" la raíz es =\" , raiz_bin(una_funcion, 0, 4)"
   ]
  },
  {
   "cell_type": "code",
   "execution_count": 55,
   "metadata": {
    "collapsed": false
   },
   "outputs": [
    {
     "name": "stdout",
     "output_type": "stream",
     "text": [
      "0\n",
      "1\n",
      "2\n",
      "3\n",
      "4\n",
      "5\n"
     ]
    }
   ],
   "source": [
    "for i in range (10):\n",
    "    print i\n",
    "    if i==5:\n",
    "        break"
   ]
  },
  {
   "cell_type": "code",
   "execution_count": null,
   "metadata": {
    "collapsed": true
   },
   "outputs": [],
   "source": []
  }
 ],
 "metadata": {
  "kernelspec": {
   "display_name": "Python [Root]",
   "language": "python",
   "name": "Python [Root]"
  },
  "language_info": {
   "codemirror_mode": {
    "name": "ipython",
    "version": 2
   },
   "file_extension": ".py",
   "mimetype": "text/x-python",
   "name": "python",
   "nbconvert_exporter": "python",
   "pygments_lexer": "ipython2",
   "version": "2.7.12"
  }
 },
 "nbformat": 4,
 "nbformat_minor": 0
}
