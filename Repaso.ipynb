{
 "cells": [
  {
   "cell_type": "code",
   "execution_count": 10,
   "metadata": {
    "collapsed": false
   },
   "outputs": [],
   "source": [
    "from math import *\n",
    "from pylab import *"
   ]
  },
  {
   "cell_type": "code",
   "execution_count": 11,
   "metadata": {
    "collapsed": false
   },
   "outputs": [
    {
     "data": {
      "text/plain": [
       "5040"
      ]
     },
     "execution_count": 11,
     "metadata": {},
     "output_type": "execute_result"
    }
   ],
   "source": [
    "def factorial (n):\n",
    "    fac, num = 1, range(2,n+1)\n",
    "    for n in num:\n",
    "        fac = fac*n\n",
    "    return fac\n",
    "factorial (7)"
   ]
  },
  {
   "cell_type": "code",
   "execution_count": 28,
   "metadata": {
    "collapsed": false
   },
   "outputs": [],
   "source": [
    "def mi_sine(x,n_max=10):\n",
    "    x, y= x%(2*pi),0.\n",
    "    if x<= pi/2:\n",
    "        print \"intervalo 1\"\n",
    "    elif (pi/2)<x<=pi:\n",
    "        print \"intervalo 2\"\n",
    "        x= pi-x\n",
    "    elif pi<x<=(3*pi/2):\n",
    "        print \"intervalo 3\"\n",
    "        x= -(x-pi)\n",
    "    else:\n",
    "        print \"intervalo 4\"\n",
    "        x=(x-2*pi)\n",
    "    for n in range (n_max):\n",
    "        p = 2*n+1\n",
    "        y += ((-1)**n)*(x**(p)/factorial(p))\n",
    "    return y\n"
   ]
  },
  {
   "cell_type": "code",
   "execution_count": 29,
   "metadata": {
    "collapsed": false
   },
   "outputs": [
    {
     "name": "stdout",
     "output_type": "stream",
     "text": [
      "1.0\n",
      "intervalo 1\n",
      "1.0\n"
     ]
    }
   ],
   "source": [
    "print sin(pi/2)\n",
    "print mi_sine(pi/2,9)# el argumento opcional está prevaluado "
   ]
  },
  {
   "cell_type": "code",
   "execution_count": null,
   "metadata": {
    "collapsed": true
   },
   "outputs": [],
   "source": []
  }
 ],
 "metadata": {
  "kernelspec": {
   "display_name": "Python 2",
   "language": "python",
   "name": "python2"
  },
  "language_info": {
   "codemirror_mode": {
    "name": "ipython",
    "version": 2
   },
   "file_extension": ".py",
   "mimetype": "text/x-python",
   "name": "python",
   "nbconvert_exporter": "python",
   "pygments_lexer": "ipython2",
   "version": "2.7.11"
  }
 },
 "nbformat": 4,
 "nbformat_minor": 0
}
