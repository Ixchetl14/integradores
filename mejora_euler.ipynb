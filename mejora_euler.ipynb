{
 "cells": [
  {
   "cell_type": "code",
   "execution_count": 3,
   "metadata": {
    "collapsed": true
   },
   "outputs": [],
   "source": [
    "from pylab import *\n",
    "%matplotlib inline"
   ]
  },
  {
   "cell_type": "code",
   "execution_count": null,
   "metadata": {
    "collapsed": true
   },
   "outputs": [],
   "source": []
  },
  {
   "cell_type": "markdown",
   "metadata": {},
   "source": [
    "# Segundo método (metodo de integración a segundo orden).\n",
    "\n",
    "\n",
    "\n",
    "$$ y_ {n+1}=y_n + hf(x_n,y_n) + \\frac{h^2}{2} \\left(\\frac{\\partial f}{\\partial x}+ \\frac{\\partial f}{\\partial y}  f \\right)$$\n",
    "\n",
    "\n",
    "\n",
    "Donde $f$ y sus parciales estan evaluadas en $f(x_n,y_n)$"
   ]
  },
  {
   "cell_type": "code",
   "execution_count": 39,
   "metadata": {
    "collapsed": true
   },
   "outputs": [],
   "source": [
    "\n",
    "\n",
    "def segundo_orden(ec_diff,p_ini,t_final, ec_jac, h=0.1): # ec_jac son las parciales de f evaluadas en x0 y y0\n",
    "    tiempo=arange(0,t_final+h, h)\n",
    "    y=zeros(len(tiempo))\n",
    "    y[0]=p_ini\n",
    "    for i in range(len(tiempo)-1):\n",
    "        y[i+1]= y[i] + h*ec_diff(y[i], tiempo[i]) # con esto tenemos el metodo de euler\n",
    "        y[i+1] += 0.5*h*h*( ec_jac(y[i], tiempo[i])[0]) # componente 0 \n",
    "        y[i+1] += 0.5*h*h*( ec_jac(y[i], tiempo[i])[1]) * (ec_diff(y[i], tiempo[i])) # componete 1 y la ecuacion diferencial\n",
    "    \n",
    "    return tiempo,y"
   ]
  },
  {
   "cell_type": "code",
   "execution_count": 28,
   "metadata": {
    "collapsed": true
   },
   "outputs": [],
   "source": [
    "def euler(ec_diff,p_ini,t_final,h=0.1): # definimos al integrador de euler\n",
    "    tiempo=arange(0,t_final+h,h)   # debemos que crear el arreglo de intervalos de tiempo que esté relacionado con h de lo contrario el\n",
    "    y=zeros(len(tiempo))\n",
    "    y[0]=p_ini\n",
    "    for i in range(len(tiempo)-1):\n",
    "        y[i+1]=y[i] + h*ec_diff(y[i], tiempo[i]) \n",
    "    \n",
    "    return tiempo,y   # te debe de regresar un arreglo del tiempo y de tu solición final"
   ]
  },
  {
   "cell_type": "code",
   "execution_count": 24,
   "metadata": {
    "collapsed": true
   },
   "outputs": [],
   "source": [
    "def ec_dif(y,x):\n",
    "    return x*sin(y)"
   ]
  },
  {
   "cell_type": "markdown",
   "metadata": {},
   "source": [
    "Ahora definimos la funcion que corresponde a la derivada de la función diferencial que  definimos anteriormente, esto corresponde al jacobiano\n"
   ]
  },
  {
   "cell_type": "code",
   "execution_count": 25,
   "metadata": {
    "collapsed": true
   },
   "outputs": [],
   "source": [
    "def d_ec_dif(y,x):\n",
    "    return sin(y), x*cos(y)"
   ]
  },
  {
   "cell_type": "code",
   "execution_count": 26,
   "metadata": {
    "collapsed": false
   },
   "outputs": [
    {
     "data": {
      "text/plain": [
       "(0.70710678118654746, 1.4142135623730951)"
      ]
     },
     "execution_count": 26,
     "metadata": {},
     "output_type": "execute_result"
    }
   ],
   "source": [
    "d_ec_dif(pi/4,2)  # probando la funcionalidad de la ecuación diferenciable \n"
   ]
  },
  {
   "cell_type": "code",
   "execution_count": 53,
   "metadata": {
    "collapsed": false
   },
   "outputs": [
    {
     "data": {
      "image/png": "[encoded data removed]",
      "text/plain": [
       "<matplotlib.figure.Figure at 0x7f043328b4d0>"
      ]
     },
     "metadata": {},
     "output_type": "display_data"
    }
   ],
   "source": [
    "#x = linspace(0,4)# te da 50 terminos , si no indicas el numero de datos que quieres que te entregue\n",
    "\n",
    "y_euler = euler(ec_dif,1,2)\n",
    "y_euler_01= euler(ec_dif,1,2, 0.01) # modificamos el \"paso\"\n",
    "plot(y_euler[0],y_euler[1],'--',label=\"Euler h=0.1\")\n",
    "plot(y_euler_01[0],y_euler_01[1],label=\"Euler h=0.01\")\n",
    "\n",
    "y_seg_met = segundo_orden(ec_dif,1,2,d_ec_dif)\n",
    "plot(y_seg_met[0],y_seg_met[1],'o', color=\"orange\",label=\"SG. h=0.1\")\n",
    "legend(loc=0)\n",
    "show()"
   ]
  },
  {
   "cell_type": "code",
   "execution_count": 57,
   "metadata": {
    "collapsed": false
   },
   "outputs": [
    {
     "name": "stdout",
     "output_type": "stream",
     "text": [
      "0.0235061244662\n"
     ]
    }
   ],
   "source": [
    "print y_seg_met[1][-1] - y_euler[1][-1]   # pide que nos entregue la diferencia de la columna solución y el último termino"
   ]
  },
  {
   "cell_type": "code",
   "execution_count": 55,
   "metadata": {
    "collapsed": true
   },
   "outputs": [],
   "source": [
    "a=(1,2,3)"
   ]
  },
  {
   "cell_type": "code",
   "execution_count": 56,
   "metadata": {
    "collapsed": false
   },
   "outputs": [
    {
     "data": {
      "text/plain": [
       "3"
      ]
     },
     "execution_count": 56,
     "metadata": {},
     "output_type": "execute_result"
    }
   ],
   "source": [
    "a[-1] "
   ]
  },
  {
   "cell_type": "code",
   "execution_count": null,
   "metadata": {
    "collapsed": true
   },
   "outputs": [],
   "source": []
  }
 ],
 "metadata": {
  "kernelspec": {
   "display_name": "Python 2",
   "language": "python",
   "name": "python2"
  },
  "language_info": {
   "codemirror_mode": {
    "name": "ipython",
    "version": 2
   },
   "file_extension": ".py",
   "mimetype": "text/x-python",
   "name": "python",
   "nbconvert_exporter": "python",
   "pygments_lexer": "ipython2",
   "version": "2.7.11"
  }
 },
 "nbformat": 4,
 "nbformat_minor": 0
}
