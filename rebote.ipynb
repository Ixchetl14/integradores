{
 "cells": [
  {
   "cell_type": "code",
   "execution_count": 9,
   "metadata": {
    "collapsed": true
   },
   "outputs": [],
   "source": [
    "from pylab import*\n",
    "%matplotlib inline"
   ]
  },
  {
   "cell_type": "code",
   "execution_count": 10,
   "metadata": {
    "collapsed": true
   },
   "outputs": [],
   "source": [
    "def RK4(ec, p_ini, x, args=0, h=0.01):\n",
    "    if (x[1] - x[0]) <= 5.*h:\n",
    "        h= (x[1] - x[0])/10\n",
    "    tiempos=arange(x[0],x[1]+h,h)\n",
    "    sol = zeros((len(tiempos),len(p_ini)))\n",
    "    sol[0,:]=p_ini\n",
    "    if args==0:\n",
    "        for i in xrange(len(tiempos)-1):\n",
    "            k_1=ec(sol[i,:],tiempos[i])\n",
    "            k_2=ec(sol[i,:]+0.5*h*k_1,tiempos[i]+0.5*h)\n",
    "            k_3=ec(sol[i,:]+0.5*h*k_2,tiempos[i]+0.5*h)\n",
    "            k_4=ec(sol[i,:]+h*k_3,tiempos[i]+h)\n",
    "            sol[i+1,:]= sol[i,:]+ (h/6.)*(k_1+2*k_2+2*k_3+k_4)\n",
    "    else:\n",
    "        for i in xrange(len(tiempos)-1):\n",
    "            k_1=ec(sol[i,:],tiempos[i],args)\n",
    "            k_2=ec(sol[i,:]+0.5*h*k_1,tiempos[i]+0.5*h,args)\n",
    "            k_3=ec(sol[i,:]+0.5*h*k_2,tiempos[i]+0.5*h,args)\n",
    "            k_4=ec(sol[i,:]+h*k_3,tiempos[i]+h,args)\n",
    "            sol[i+1,:]= sol[i,:]+ (h/6.)*(k_1+2*k_2+2*k_3+k_4)\n",
    "    return tiempos,sol\n"
   ]
  },
  {
   "cell_type": "code",
   "execution_count": 11,
   "metadata": {
    "collapsed": false
   },
   "outputs": [
    {
     "data": {
      "text/plain": [
       "-0.98803162409286183"
      ]
     },
     "execution_count": 11,
     "metadata": {},
     "output_type": "execute_result"
    }
   ],
   "source": [
    "sin(30)"
   ]
  },
  {
   "cell_type": "code",
   "execution_count": 34,
   "metadata": {
    "collapsed": true
   },
   "outputs": [],
   "source": [
    "def e_mov(r_v,t,fric=0,g= 9.8,m=1):\n",
    "    u =sqrt(r_v[2]**2+r_v[3]**2)\n",
    "    dx = r_v[2]\n",
    "    dy = r_v[3]\n",
    "    if fric==0:\n",
    "        dvx,dvy = 0,-(g/m)\n",
    "        #print \"No use un modelo de friccion\"\n",
    "    else:\n",
    "        dvx = -fric([r_v[2],r_v[3]])[0]\n",
    "        dvy = -(g/m) - fric([r_v[2],r_v[3]])[1]\n",
    "        #print \"Use un modelo de friccion\"\n",
    "    return array([dx,dy,dvx,dvy])"
   ]
  },
  {
   "cell_type": "code",
   "execution_count": 22,
   "metadata": {
    "collapsed": true
   },
   "outputs": [],
   "source": [
    "def fric_id(v):\n",
    "    return array([0,0])\n",
    "\n",
    "def fric_v(v,gamma=0.1):\n",
    "    f_x = gamma*v[0]\n",
    "    f_y = gamma*v[1]\n",
    "    return array([f_x,f_y])\n",
    "\n",
    "def fric_v2(v,gamma=0.1):\n",
    "    norm_v = sqrt(v[0]**2 + v[1]**2)\n",
    "    f_x = gamma*norm_v*v[0]\n",
    "    f_y = gamma*norm_v*v[1]\n",
    "    return array([f_x,f_y])"
   ]
  },
  {
   "cell_type": "code",
   "execution_count": 6,
   "metadata": {
    "collapsed": false
   },
   "outputs": [
    {
     "data": {
      "text/plain": [
       "[<matplotlib.lines.Line2D at 0xab74246c>]"
      ]
     },
     "execution_count": 6,
     "metadata": {},
     "output_type": "execute_result"
    },
    {
     "data": {
      "image/png": "[encoded data removed]",
      "text/plain": [
       "<matplotlib.figure.Figure at 0xacd63a6c>"
      ]
     },
     "metadata": {},
     "output_type": "display_data"
    }
   ],
   "source": [
    "p=[0,0,5,5]\n",
    "t,sol_id=RK4(e_mov,p,[0,1])\n",
    "t,sol_fv=RK4(e_mov,p,[0,1],fric_v,.01)\n",
    "t,sol_fv2=RK4(e_mov,p,[0,1],fric_v2)\n",
    "plot(sol_id[:,0],sol_id[:,1])\n",
    "plot(sol_fv[:,0],sol_fv[:,1])\n",
    "plot(sol_fv2[:,0],sol_fv2[:,1])"
   ]
  },
  {
   "cell_type": "code",
   "execution_count": 7,
   "metadata": {
    "collapsed": false
   },
   "outputs": [
    {
     "name": "stdout",
     "output_type": "stream",
     "text": [
      "[ 1.   1.   0.  -9.8]\n",
      "[ 1.   1.   0.  -9.8]\n",
      "[ 1.   1.  -0.1 -9.9]\n",
      "[ 1.          1.         -0.14142136 -9.94142136]\n"
     ]
    }
   ],
   "source": [
    "print e_mov([1,1,1,1],1)\n",
    "print e_mov([1,1,1,1],1,fric_id)\n",
    "print e_mov([1,1,1,1],1,fric_v)\n",
    "print e_mov([1,1,1,1],1,fric_v2)\n"
   ]
  },
  {
   "cell_type": "code",
   "execution_count": 8,
   "metadata": {
    "collapsed": false
   },
   "outputs": [
    {
     "name": "stdout",
     "output_type": "stream",
     "text": [
      "0.486963819865\n",
      "-0.311193109272\n"
     ]
    }
   ],
   "source": [
    "print sol_fv2[80,:][1]\n",
    "print sol_fv2[-1,:][1]"
   ]
  },
  {
   "cell_type": "code",
   "execution_count": 26,
   "metadata": {
    "collapsed": false
   },
   "outputs": [
    {
     "data": {
      "image/png": "[encoded data removed]",
      "text/plain": [
       "<matplotlib.figure.Figure at 0xace168cc>"
      ]
     },
     "metadata": {},
     "output_type": "display_data"
    }
   ],
   "source": [
    "inicio= [0,3,5,5]\n",
    "N = 60\n",
    "trayectoria = zeros((N,len(inicio)))\n",
    "mi_dt= .1\n",
    "trayectoria[0,:]= array(inicio)\n",
    "for i in range(N-1): # restamos el pinto inicial\n",
    "    t,sol_dt = RK4(e_mov,trayectoria[i,:],[0,mi_dt],fric_v)\n",
    "    if sol_dt[-1,:][1] <0 : # si cambia de signo\n",
    "        \"\"\"#print \"buscando punto de rebote\"\n",
    "        #empezamos el algoritmo de biparticion \n",
    "        dt_busqueda = mi_dt/2\n",
    "        y_izq = trayectoria[i,:] # toma el valor anterior, antes de que se de el cambio de signo\n",
    "        t,sol = RK4(e_mov,trayectoria[i,:],[0,dt_busqueda],fric_v)# tomamos las \n",
    "        \n",
    "        y_med = sol[-1,:] # se obtiene con el proceso integración \n",
    "        #print y_med\n",
    "        while abs(y_izq[1]) > 1e-5: # mientras la coordenada de y de  yizquier\n",
    "            if y_izq[1]*y_med[1] <0:\n",
    "                reinicio = y_izq\n",
    "            else:\n",
    "                reinicio=y_med # si el producto entre y_iz e y_med es positivo, ahora toma el valor de y_med como el de la izquierda , empezamos de nuevo la busqueda de la raiz\n",
    "            dt_busqueda = dt_busqueda/2 # disminuye el intervalo de la buaqueda para que converja mas rapido\n",
    "            t,sol = RK4(e_mov,reinicio,[0,dt_busqueda],fric_v) # como modificamos el intervalo del tiempollegarael punto en que sera mucho mas pequeño que el paso de integración\n",
    "            y_izq = reinicio\n",
    "            y_med = sol[-1,:]\n",
    "            \n",
    "        y_izq = array([y_izq[0],y_izq[1],y_izq[2],-y_izq[3]]) #la tercera entrada nos cambia el signo de y para que suba\n",
    "        \"\"\"\n",
    "        trayectoria[i+1,:] = y_izq\n",
    "    else:\n",
    "        trayectoria[i+1,:] = sol_dt[-1,:] # ultimo punto de la simulación, punto siguiente de la trayectoria\n",
    "    \n",
    "    \n",
    "#plot(sol_fv[:,0],sol_fv[:,1],\"o\")\n",
    "plot(trayectoria[:,0],trayectoria[:,1],\"o-\")\n",
    "\n",
    "show()"
   ]
  },
  {
   "cell_type": "code",
   "execution_count": 36,
   "metadata": {
    "collapsed": false
   },
   "outputs": [
    {
     "data": {
      "image/png": "[encoded data removed]",
      "text/plain": [
       "<matplotlib.figure.Figure at 0xab41320c>"
      ]
     },
     "metadata": {},
     "output_type": "display_data"
    }
   ],
   "source": [
    "inicio= [0,3,5,5]\n",
    "N = 180\n",
    "trayectoria = zeros((N,len(inicio)))\n",
    "mi_dt= .1\n",
    "trayectoria[0,:]= array(inicio)\n",
    "for i in range(N-1): # restamos el pinto inicial\n",
    "    t,sol_dt = RK4(e_mov,trayectoria[i,:],[0,mi_dt],fric_v)\n",
    "    if sol_dt[-1,:][1] <0 : # si cambia de signo\n",
    "        punto = rebote(trayectoria[i,:],mi_dt)\n",
    "        trayectoria[i+1,:] = punto\n",
    "    else:\n",
    "        trayectoria[i+1,:] = sol_dt[-1,:] # ultimo punto de la simulación, punto siguiente de la trayectoria\n",
    "    \n",
    "plot(trayectoria[:,0],trayectoria[:,1],\"o-\")\n",
    "\n",
    "show()"
   ]
  },
  {
   "cell_type": "markdown",
   "metadata": {},
   "source": [
    "Definimos una funcion con el algoritmo que define el movimiento\n",
    "\n"
   ]
  },
  {
   "cell_type": "code",
   "execution_count": 24,
   "metadata": {
    "collapsed": true
   },
   "outputs": [],
   "source": [
    "def rebote(r_v_i,mi_dt):  # r_i es la coordenada inicial\n",
    "        dt_busqueda = mi_dt/2\n",
    "        y_izq =r_v_i\n",
    "        t,sol = RK4(e_mov,r_v_i,[0,dt_busqueda],fric_v)# tomamos las \n",
    "        y_med = sol[-1,:] # se obtiene con el proceso integración \n",
    "        while abs(y_izq[1]) > 1e-5: # mientras la coordenada de y de  yizquier\n",
    "            if y_izq[1]*y_med[1] <0:\n",
    "                reinicio = y_izq\n",
    "            else:\n",
    "                reinicio=y_med # si el producto entre y_iz e y_med es positivo, ahora toma el valor de y_med como el de la izquierda , empezamos de nuevo la busqueda de la raiz\n",
    "            dt_busqueda = dt_busqueda/2 # disminuye el intervalo de la buaqueda para que converja mas rapido\n",
    "            t,sol = RK4(e_mov,reinicio,[0,dt_busqueda],fric_v) # como modificamos el intervalo del tiempollegarael punto en que sera mucho mas pequeño que el paso de integración\n",
    "            y_izq = reinicio\n",
    "            y_med = sol[-1,:]  #\n",
    "            \n",
    "        y_izq = array([y_izq[0],y_izq[1],y_izq[2],-y_izq[3]]) #la tercera entrada nos cambia el signo de y para que suba\n",
    "        return y_izq"
   ]
  },
  {
   "cell_type": "code",
   "execution_count": null,
   "metadata": {
    "collapsed": true
   },
   "outputs": [],
   "source": []
  }
 ],
 "metadata": {
  "kernelspec": {
   "display_name": "Python 2",
   "language": "python",
   "name": "python2"
  },
  "language_info": {
   "codemirror_mode": {
    "name": "ipython",
    "version": 2
   },
   "file_extension": ".py",
   "mimetype": "text/x-python",
   "name": "python",
   "nbconvert_exporter": "python",
   "pygments_lexer": "ipython2",
   "version": "2.7.11"
  }
 },
 "nbformat": 4,
 "nbformat_minor": 0
}
