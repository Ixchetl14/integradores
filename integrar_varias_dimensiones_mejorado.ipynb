{
 "cells": [
  {
   "cell_type": "markdown",
   "metadata": {},
   "source": [
    "Para obtener un mejor resultado en la integración es mejor utilizar la aproximación de segundo orden y con varias variables. Como vimos en clase :\n",
    "\n",
    "\n",
    "\n",
    "$$ \n",
    "\\vec y_{n+1} = \\vec y_n  + h \\vec f(x_n,y_n)+ \\frac{1}{2}h^2 \\left(\\frac{\\partial \\vec f}{\\partial x} + \\mathbb{J} \\vec f \\right) \n",
    "$$\n",
    "\n",
    "donde $f$ es $ f( x_n, \\vec y_n) , \\mathbb (J)$ es el jacobiano de $f$ evaluado en $( x_n, \\vec y_n)$\n"
   ]
  },
  {
   "cell_type": "code",
   "execution_count": 2,
   "metadata": {
    "collapsed": false
   },
   "outputs": [],
   "source": [
    "from pylab import *\n",
    "%matplotlib inline"
   ]
  },
  {
   "cell_type": "markdown",
   "metadata": {},
   "source": [
    "##   \" Euler de 2 ° orde\"\n",
    "\n",
    "\n",
    "Este método tiene mayor presición que el de euler"
   ]
  },
  {
   "cell_type": "code",
   "execution_count": 27,
   "metadata": {
    "collapsed": false
   },
   "outputs": [
    {
     "data": {
      "text/plain": [
       "[<matplotlib.lines.Line2D at 0x7f28b0837110>]"
      ]
     },
     "execution_count": 27,
     "metadata": {},
     "output_type": "execute_result"
    },
    {
     "data": {
      "image/png": "[encoded data removed]",
      "text/plain": [
       "<matplotlib.figure.Figure at 0x7f28b0e1d210>"
      ]
     },
     "metadata": {},
     "output_type": "display_data"
    }
   ],
   "source": [
    "def integra2(ec,d_ec, p_ini,x,h=0.1):\n",
    "   \n",
    "    tiempos = arange(x[0],x[1]+h,h)   # h, es el \"paso \" entre el intervalo dado; con esto damos el nuemro de datos \"tiempos\" que queremos nos tome nuestra ecuacíon y estaran relacionados con la solucio,( se tendría una \"t\" con su \"sol\")\n",
    "    sol=zeros((len(tiempos), len(p_ini)) )# array con ceros dada por la longitud de las condiciones iniciales( la primera condicion indica los renglones y la segunda la columna)\n",
    "    sol[0,:]=p_ini    #el primer renglon lo llenará con \"p_ini\" por lo que el ciclo debera de ser de len(tiempos) -1 \n",
    "    for i in xrange(len(tiempos)-1):  # ira corrinedo para todos los tiempos y la solucion la estaremos ingresando en una matris con listas\n",
    "                                     #xrange solo funciona en los ciclos\n",
    "        \n",
    "        f=ec(sol[i,:], tiempos[i]) # indica que debe de evaluar la funcion en cada tiempo y lo \n",
    "        df,jac=d_ec(sol[i,:],tiempos[i])\n",
    "        sol[i+1,:] = sol[i,:]+h*f + (0.5*h*h*(df+dot(jac,f)))  # integrando lo que faltaba de la ecuación que nos da en un principio# debe de ser el i + 1 por que el primer renglon ya esta ocupado, con esto se irá llenand\n",
    "    #o el arreglo de ceros\n",
    "    \n",
    "    #jn1 = yn + (h*f) + (0.5*h*h*(jac[0]+ dot (jac[1],f)))       # donde jac[0]    es la parcial de f respecto de f\n",
    "    return tiempos,sol\n",
    "\n",
    "#def prueba(y,t):\n",
    " #   return array([y[1], -y[0]])   # programamos el cos x\n",
    "def prueba(y,t):\n",
    "    return array ([y[1],-y[0]])\n",
    "def d_prueba(y,t):\n",
    "    return array ([0,0]),array ([[0,1],[-1,0]])\n",
    "\n",
    "\n",
    "t,y=integra2(prueba,d_prueba,[1,0],[0,50],0.1)\n",
    "\n",
    "#plot(t,y[:,0],t,cos(t))\n",
    "plot(y[:,0],y[:,1])  # grafica todos los renglones de la primer columna contra todos los renglones de la segunda columna\n",
    "\n",
    "\n"
   ]
  },
  {
   "cell_type": "code",
   "execution_count": 19,
   "metadata": {
    "collapsed": true
   },
   "outputs": [],
   "source": [
    "def prueba(y,t):\n",
    "    return array ([y[1],-y[0]])\n"
   ]
  },
  {
   "cell_type": "code",
   "execution_count": 20,
   "metadata": {
    "collapsed": true
   },
   "outputs": [],
   "source": [
    "def d_prueba(y,t):\n",
    "    return array ([0,0]),array ([[0,1],[-1,0]])"
   ]
  },
  {
   "cell_type": "markdown",
   "metadata": {},
   "source": [
    "Definimos la siguiente finción:"
   ]
  },
  {
   "cell_type": "code",
   "execution_count": 36,
   "metadata": {
    "collapsed": true
   },
   "outputs": [],
   "source": [
    "def p(y,t):\n",
    "    return array([y[1],-2*y[1]-0.5*sin(y[0])+ cos(t)])"
   ]
  },
  {
   "cell_type": "code",
   "execution_count": 37,
   "metadata": {
    "collapsed": true
   },
   "outputs": [],
   "source": [
    "def dp(y,t):\n",
    "    return array ([0,cos(t)]),array ([[0,1],[-0.5*cos(y[0]),-2]])"
   ]
  },
  {
   "cell_type": "code",
   "execution_count": 38,
   "metadata": {
    "collapsed": false
   },
   "outputs": [
    {
     "data": {
      "text/plain": [
       "[<matplotlib.lines.Line2D at 0x7f28b05d6350>]"
      ]
     },
     "execution_count": 38,
     "metadata": {},
     "output_type": "execute_result"
    },
    {
     "data": {
      "image/png": "[encoded data removed]",
      "text/plain": [
       "<matplotlib.figure.Figure at 0x7f28b06aa150>"
      ]
     },
     "metadata": {},
     "output_type": "display_data"
    }
   ],
   "source": [
    "t,y= integra2(p,dp,[1,0],[0,100],0.1)\n",
    "plot(y[:,0],y[:,1])"
   ]
  },
  {
   "cell_type": "code",
   "execution_count": null,
   "metadata": {
    "collapsed": true
   },
   "outputs": [],
   "source": []
  },
  {
   "cell_type": "code",
   "execution_count": null,
   "metadata": {
    "collapsed": true
   },
   "outputs": [],
   "source": []
  },
  {
   "cell_type": "code",
   "execution_count": null,
   "metadata": {
    "collapsed": true
   },
   "outputs": [],
   "source": []
  },
  {
   "cell_type": "code",
   "execution_count": null,
   "metadata": {
    "collapsed": true
   },
   "outputs": [],
   "source": []
  },
  {
   "cell_type": "code",
   "execution_count": null,
   "metadata": {
    "collapsed": true
   },
   "outputs": [],
   "source": []
  },
  {
   "cell_type": "markdown",
   "metadata": {},
   "source": [
    "## Herramientas"
   ]
  },
  {
   "cell_type": "code",
   "execution_count": 16,
   "metadata": {
    "collapsed": false
   },
   "outputs": [
    {
     "name": "stdout",
     "output_type": "stream",
     "text": [
      "[[2 0]\n",
      " [0 2]]\n",
      "[[2 0]\n",
      " [0 2]]\n",
      "[[1 0]\n",
      " [0 1]]\n",
      "[2 3]\n"
     ]
    }
   ],
   "source": [
    "\n",
    "A2= matrix ([[1,0],[0,1]])\n",
    "A= array ([[1,0],[0,1]])\n",
    "b=[2,3]\n",
    "print A2*2\n",
    "print A*2\n",
    "print dot(A2,A)\n",
    "print dot(A,b)# no se debe de usar el producto interno entre matriz y un vector, se debe de manejar como dos areglos, manda un e de la forma contraria."
   ]
  },
  {
   "cell_type": "code",
   "execution_count": 17,
   "metadata": {
    "collapsed": false
   },
   "outputs": [
    {
     "name": "stdout",
     "output_type": "stream",
     "text": [
      "1 2 3 4\n",
      "[[ 2  6]\n",
      " [ 6 12]]\n"
     ]
    }
   ],
   "source": [
    "A= array ([[1,2],[3,4]])    # Python no tiene definido el producto interno por lo que es necesario escribir tanto como la matriz y  vector como arreglos.\n",
    "b=array([2,3])\n",
    "print A[0,0],A[0,1],A[1,0],A[1,1]\n",
    "print A*b"
   ]
  },
  {
   "cell_type": "code",
   "execution_count": 1,
   "metadata": {
    "collapsed": false
   },
   "outputs": [
    {
     "ename": "NameError",
     "evalue": "name 'zeros' is not defined",
     "output_type": "error",
     "traceback": [
      "\u001b[1;31m---------------------------------------------------------------------------\u001b[0m",
      "\u001b[1;31mNameError\u001b[0m                                 Traceback (most recent call last)",
      "\u001b[1;32m<ipython-input-1-9afb8bbafd6d>\u001b[0m in \u001b[0;36m<module>\u001b[1;34m()\u001b[0m\n\u001b[1;32m----> 1\u001b[1;33m \u001b[0mx\u001b[0m\u001b[1;33m=\u001b[0m\u001b[0mzeros\u001b[0m\u001b[1;33m(\u001b[0m\u001b[1;33m(\u001b[0m\u001b[1;36m2\u001b[0m\u001b[1;33m,\u001b[0m\u001b[1;36m6\u001b[0m\u001b[1;33m)\u001b[0m\u001b[1;33m)\u001b[0m\u001b[1;33m\u001b[0m\u001b[0m\n\u001b[0m",
      "\u001b[1;31mNameError\u001b[0m: name 'zeros' is not defined"
     ]
    }
   ],
   "source": [
    "x=zeros((2,6))"
   ]
  },
  {
   "cell_type": "code",
   "execution_count": null,
   "metadata": {
    "collapsed": true
   },
   "outputs": [],
   "source": []
  }
 ],
 "metadata": {
  "kernelspec": {
   "display_name": "Python [Root]",
   "language": "python",
   "name": "Python [Root]"
  },
  "language_info": {
   "codemirror_mode": {
    "name": "ipython",
    "version": 2
   },
   "file_extension": ".py",
   "mimetype": "text/x-python",
   "name": "python",
   "nbconvert_exporter": "python",
   "pygments_lexer": "ipython2",
   "version": "2.7.12"
  }
 },
 "nbformat": 4,
 "nbformat_minor": 0
}
