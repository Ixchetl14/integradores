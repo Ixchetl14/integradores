{
 "cells": [
  {
   "cell_type": "markdown",
   "metadata": {},
   "source": [
    "Para obtener un mejor resultado en la integración es mejor utilizar la aproximación de segundo orden y con varias variables. Como vimos en clase :\n",
    "\n",
    "\n",
    "\n",
    "$$ \n",
    "\\vec y_{n+1} = \\vec y_n  + h \\vec f(x_n,y_n)+ \\frac{1}{2}h^2 \\left(\\frac{\\partial \\vec f}{\\partial x} + \\mathbb{J} \\vec f \\right) \n",
    "$$\n",
    "\n",
    "donde $f$ es $ f( x_n, \\vec y_n) , \\mathbb (J)$ es el jacobiano de $f$ evaluado en $( x_n, \\vec y_n)$\n"
   ]
  },
  {
   "cell_type": "code",
   "execution_count": 2,
   "metadata": {
    "collapsed": false
   },
   "outputs": [],
   "source": [
    "from pylab import *\n",
    "%matplotlib inline"
   ]
  },
  {
   "cell_type": "code",
   "execution_count": null,
   "metadata": {
    "collapsed": true
   },
   "outputs": [],
   "source": [
    "def integra2(f, jac, p_ini,x,h=0.1):\n",
    "    jn1 = yn + (h*f) + (0.5*h*h*(jac[0]+ dot (jac[1],f)))       # donde jac[0]    es la parcial de f respecto de f\n",
    "    "
   ]
  },
  {
   "cell_type": "code",
   "execution_count": null,
   "metadata": {
    "collapsed": true
   },
   "outputs": [],
   "source": []
  },
  {
   "cell_type": "markdown",
   "metadata": {},
   "source": [
    "## Herramientas"
   ]
  },
  {
   "cell_type": "code",
   "execution_count": 16,
   "metadata": {
    "collapsed": false
   },
   "outputs": [
    {
     "name": "stdout",
     "output_type": "stream",
     "text": [
      "[[2 0]\n",
      " [0 2]]\n",
      "[[2 0]\n",
      " [0 2]]\n",
      "[[1 0]\n",
      " [0 1]]\n",
      "[2 3]\n"
     ]
    }
   ],
   "source": [
    "\n",
    "A2= matrix ([[1,0],[0,1]])\n",
    "A= array ([[1,0],[0,1]])\n",
    "b=[2,3]\n",
    "print A2*2\n",
    "print A*2\n",
    "print dot(A2,A)\n",
    "print dot(A,b)# no se debe de usar el producto interno entre matriz y un vector, se debe de manejar como dos areglos, manda un e de la forma contraria."
   ]
  },
  {
   "cell_type": "code",
   "execution_count": 17,
   "metadata": {
    "collapsed": false
   },
   "outputs": [
    {
     "name": "stdout",
     "output_type": "stream",
     "text": [
      "1 2 3 4\n",
      "[[ 2  6]\n",
      " [ 6 12]]\n"
     ]
    }
   ],
   "source": [
    "A= array ([[1,2],[3,4]])    # Python no tiene definido el producto interno por lo que es necesario escribir tanto como la matriz y  vector como arreglos.\n",
    "b=array([2,3])\n",
    "print A[0,0],A[0,1],A[1,0],A[1,1]\n",
    "print A*b"
   ]
  },
  {
   "cell_type": "code",
   "execution_count": null,
   "metadata": {
    "collapsed": true
   },
   "outputs": [],
   "source": []
  }
 ],
 "metadata": {
  "kernelspec": {
   "display_name": "Python [Root]",
   "language": "python",
   "name": "Python [Root]"
  },
  "language_info": {
   "codemirror_mode": {
    "name": "ipython",
    "version": 2
   },
   "file_extension": ".py",
   "mimetype": "text/x-python",
   "name": "python",
   "nbconvert_exporter": "python",
   "pygments_lexer": "ipython2",
   "version": "2.7.12"
  }
 },
 "nbformat": 4,
 "nbformat_minor": 0
}
